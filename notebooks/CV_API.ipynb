{
 "cells": [
  {
   "cell_type": "code",
   "execution_count": null,
   "metadata": {},
   "outputs": [],
   "source": [
    "# Importing the necessary packages \n",
    "import mlflow \n",
    "from mlflow.models.signature import infer_signature\n",
    "from ultralytics import YOLO \n",
    "import cv2 \n",
    "from PIL import Image\n",
    "import requests\n",
    "from io import BytesIO\n",
    "import io \n",
    "import base64\n",
    "\n",
    "import matplotlib.pyplot as plt\n",
    "\n",
    "# Defining the path to the model \n",
    "model_path = \"runs/segment/train14/weights/last.pt\"\n",
    "\n",
    "# Initiating the model\n",
    "model = YOLO(model_path)"
   ]
  },
  {
   "cell_type": "code",
   "execution_count": null,
   "metadata": {},
   "outputs": [],
   "source": [
    "# Defining the link to an image on the web \n",
    "#image_link = \"https://cdn-gihjl.nitrocdn.com/IWCueMOBANIXxJmBaspSaptvIdnHUnAd/assets/images/optimized/rev-9a82a2b/www.robertlowdon.com/wp-content/uploads/2019/08/agriculture-photography-004.jpg\"\n",
    "image_link = 'ml_data/images/val/UI_2024-09-30_054907_UTC_SosnovskioPapildymas_rugsejis_DJI_0106_W.JPG'\n",
    "\n",
    "# Loading the image from the web\n",
    "if image_link.startswith(\"http\"):\n",
    "    response = requests.get(image_link)\n",
    "    image = Image.open(BytesIO(response.content))\n",
    "else:\n",
    "    image = Image.open(image_link)\n",
    "\n",
    "# Ploting the image \n",
    "plt.imshow(image)"
   ]
  },
  {
   "cell_type": "code",
   "execution_count": null,
   "metadata": {},
   "outputs": [],
   "source": [
    "def pil_image_to_base64(image, image_format=\"PNG\"):\n",
    "    # Create an in-memory bytes buffer\n",
    "    buffered = io.BytesIO()\n",
    "    # Save the PIL image to this buffer in the specified format\n",
    "    image.save(buffered, format=image_format)\n",
    "    \n",
    "    # Get the raw bytes from the buffer\n",
    "    img_bytes = buffered.getvalue()\n",
    "    \n",
    "    # Encode these bytes to base64\n",
    "    img_base64 = base64.b64encode(img_bytes)\n",
    "    \n",
    "    # Convert to a UTF-8 string\n",
    "    img_str = img_base64.decode('utf-8')\n",
    "    return img_str"
   ]
  },
  {
   "cell_type": "code",
   "execution_count": null,
   "metadata": {},
   "outputs": [],
   "source": [
    "# Converting to base64\n",
    "image_base64 = pil_image_to_base64(image)"
   ]
  },
  {
   "cell_type": "code",
   "execution_count": null,
   "metadata": {},
   "outputs": [],
   "source": [
    "print(image_base64)"
   ]
  },
  {
   "cell_type": "code",
   "execution_count": null,
   "metadata": {},
   "outputs": [],
   "source": [
    "# Encoding the image to base64 format \n",
    "image.save(\"image.jpg\")\n",
    "with open(\"image.jpg\", \"rb\") as f:\n",
    "    image_bytes = f.read()\n",
    "image_base64 = str(image_bytes)"
   ]
  },
  {
   "cell_type": "code",
   "execution_count": null,
   "metadata": {},
   "outputs": [],
   "source": [
    "predictions = model.predict(image)"
   ]
  },
  {
   "cell_type": "code",
   "execution_count": null,
   "metadata": {},
   "outputs": [],
   "source": [
    "boxes = predictions[0].boxes.xyxy.detach().cpu().numpy()\n",
    "masks = predictions[0].masks\n",
    "if masks is not None: \n",
    "    masks = masks.xy"
   ]
  },
  {
   "cell_type": "code",
   "execution_count": null,
   "metadata": {},
   "outputs": [],
   "source": [
    "output = {\n",
    "    \"boxes\": boxes,\n",
    "    \"masks\": masks\n",
    "}"
   ]
  },
  {
   "cell_type": "code",
   "execution_count": null,
   "metadata": {},
   "outputs": [],
   "source": [
    "output"
   ]
  },
  {
   "cell_type": "code",
   "execution_count": null,
   "metadata": {},
   "outputs": [],
   "source": [
    "model_signature = infer_signature(model_input=image_link, model_output=output)"
   ]
  }
 ],
 "metadata": {
  "kernelspec": {
   "display_name": "venv",
   "language": "python",
   "name": "python3"
  },
  "language_info": {
   "codemirror_mode": {
    "name": "ipython",
    "version": 3
   },
   "file_extension": ".py",
   "mimetype": "text/x-python",
   "name": "python",
   "nbconvert_exporter": "python",
   "pygments_lexer": "ipython3",
   "version": "3.11.9"
  }
 },
 "nbformat": 4,
 "nbformat_minor": 2
}
