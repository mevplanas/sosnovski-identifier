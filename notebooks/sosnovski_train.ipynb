{
 "cells": [
  {
   "cell_type": "code",
   "execution_count": null,
   "metadata": {},
   "outputs": [],
   "source": [
    "# Importing deep learning \n",
    "from ultralytics import YOLO\n",
    "import torch \n",
    "\n",
    "# Other functionlaities \n",
    "import os \n",
    "import pandas as pd \n",
    "import pickle \n",
    "from sklearn.model_selection import train_test_split\n",
    "import shutil\n",
    "    \n",
    "# Checking if cuda is available\n",
    "print(\"Cuda available:\", torch.cuda.is_available())"
   ]
  },
  {
   "cell_type": "code",
   "execution_count": null,
   "metadata": {},
   "outputs": [],
   "source": [
    "model = YOLO('yolo11m-seg.pt')\n",
    "model.train(data='segment.yaml', epochs=40, batch=4)"
   ]
  }
 ],
 "metadata": {
  "kernelspec": {
   "display_name": "venv",
   "language": "python",
   "name": "python3"
  },
  "language_info": {
   "codemirror_mode": {
    "name": "ipython",
    "version": 3
   },
   "file_extension": ".py",
   "mimetype": "text/x-python",
   "name": "python",
   "nbconvert_exporter": "python",
   "pygments_lexer": "ipython3",
   "version": "3.11.9"
  }
 },
 "nbformat": 4,
 "nbformat_minor": 2
}
