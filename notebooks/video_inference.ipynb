{
 "cells": [
  {
   "cell_type": "code",
   "execution_count": null,
   "id": "1d6ad2ae",
   "metadata": {},
   "outputs": [],
   "source": [
    "# Importing deep learning \n",
    "from ultralytics import YOLO"
   ]
  },
  {
   "cell_type": "code",
   "execution_count": null,
   "id": "2649826c",
   "metadata": {},
   "outputs": [],
   "source": [
    "path_to_video = 'input/DJI_0822_W.MP4'\n",
    "path_to_model = '../ml_models/version_1.pt'\n",
    "\n",
    "# Loading the model \n",
    "model = YOLO(path_to_model)"
   ]
  },
  {
   "cell_type": "code",
   "execution_count": null,
   "id": "42484887",
   "metadata": {},
   "outputs": [],
   "source": [
    "# Running the inference on the video\n",
    "results = model.track(source=path_to_video, conf=0.3, save=True)"
   ]
  }
 ],
 "metadata": {
  "kernelspec": {
   "display_name": "venv",
   "language": "python",
   "name": "python3"
  },
  "language_info": {
   "codemirror_mode": {
    "name": "ipython",
    "version": 3
   },
   "file_extension": ".py",
   "mimetype": "text/x-python",
   "name": "python",
   "nbconvert_exporter": "python",
   "pygments_lexer": "ipython3",
   "version": "3.11.9"
  }
 },
 "nbformat": 4,
 "nbformat_minor": 5
}
