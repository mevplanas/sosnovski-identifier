{
 "cells": [
  {
   "cell_type": "code",
   "execution_count": null,
   "metadata": {},
   "outputs": [],
   "source": [
    "# Importing deep learning \n",
    "from ultralytics import YOLO\n",
    "\n",
    "# Other functionlaities \n",
    "import os \n",
    "import pandas as pd \n",
    "import numpy as np \n",
    "import math \n",
    "\n",
    "# Computer vision libs\n",
    "import cv2 \n",
    "from PIL import Image\n",
    "from PIL.ExifTags import TAGS\n",
    "import exifread\n",
    "\n",
    "# Ploting \n",
    "import matplotlib.pyplot as plt\n",
    "import matplotlib.patches as patches"
   ]
  },
  {
   "cell_type": "code",
   "execution_count": null,
   "metadata": {},
   "outputs": [],
   "source": [
    "# Loading the trained model \n",
    "model = YOLO('../runs/segment/train15/weights/last.pt')"
   ]
  },
  {
   "cell_type": "code",
   "execution_count": null,
   "metadata": {},
   "outputs": [],
   "source": [
    "# Defining the path to the image \n",
    "path_to_img = 'input/test_image.JPG'\n",
    "base_name = os.path.basename(path_to_img)\n",
    "\n",
    "# Reading and ploting the image \n",
    "img = cv2.imread(path_to_img)\n",
    "img = cv2.cvtColor(img, cv2.COLOR_BGR2RGB)\n",
    "plt.imshow(img)"
   ]
  },
  {
   "cell_type": "markdown",
   "metadata": {},
   "source": [
    "## Predicting pixels \n",
    "\n",
    "Once the model is loaded, we can extract the segments using the model object we just loaded. "
   ]
  },
  {
   "cell_type": "code",
   "execution_count": null,
   "metadata": {},
   "outputs": [],
   "source": [
    "# Applying the model \n",
    "results = model(path_to_img)"
   ]
  },
  {
   "cell_type": "code",
   "execution_count": null,
   "metadata": {},
   "outputs": [],
   "source": [
    "# Extracting the image shape \n",
    "img_w, img_h = img.shape[1], img.shape[0]\n",
    "\n",
    "# Extracting the segments \n",
    "segments = results[0].masks.xyn\n",
    "print(f\"Number of segments: {len(segments)}\")"
   ]
  },
  {
   "cell_type": "markdown",
   "metadata": {},
   "source": [
    "The above `segments` object is a list containing each found patch of the sosnovski plant. The coordinates are normalized to the original image size. \n",
    "\n",
    "An example patch is shown below. \n",
    "\n",
    "```python\n",
    "[\n",
    "    array([[   0.009375,      0.2375],\n",
    "        [   0.009375,     0.26875],\n",
    "        [   0.023438,     0.26875],\n",
    "        [   0.023438,      0.2625],\n",
    "        [      0.025,     0.26042],\n",
    "        [      0.025,     0.25833],\n",
    "        [   0.026563,     0.25625],\n",
    "        [   0.032812,     0.25625],\n",
    "        [   0.032812,      0.2375]], dtype=float32)\n",
    "]\n",
    "```\n",
    "\n",
    "The first coordinate is the x-axis and the second coordinate is the y-axis. To plot on the image, we need to multiply the coordinates by the original image size. "
   ]
  },
  {
   "cell_type": "code",
   "execution_count": null,
   "metadata": {},
   "outputs": [],
   "source": [
    "# Converting to coordinates in pixels on the given image\n",
    "segments_pixels = []\n",
    "for segment in segments:\n",
    "    segment_pixels = [(x * img_w, y * img_h) for x, y in segment]\n",
    "    segments_pixels.append(segment_pixels)"
   ]
  },
  {
   "cell_type": "code",
   "execution_count": null,
   "metadata": {},
   "outputs": [],
   "source": [
    "fig, ax = plt.subplots(1)\n",
    "ax.imshow(img)\n",
    "\n",
    "# Create and add a Polygon patch for each segment with red fill and border\n",
    "for segment in segments_pixels:\n",
    "    # Setting facecolor to red fills the polygon, and alpha adds transparency\n",
    "    polygon = patches.Polygon(segment, closed=True, edgecolor='red', facecolor='red', linewidth=4, alpha=0.35)\n",
    "    ax.add_patch(polygon)\n",
    "\n",
    "plt.axis('off')\n",
    "plt.show()"
   ]
  }
 ],
 "metadata": {
  "kernelspec": {
   "display_name": "venv",
   "language": "python",
   "name": "python3"
  },
  "language_info": {
   "codemirror_mode": {
    "name": "ipython",
    "version": 3
   },
   "file_extension": ".py",
   "mimetype": "text/x-python",
   "name": "python",
   "nbconvert_exporter": "python",
   "pygments_lexer": "ipython3",
   "version": "3.11.9"
  }
 },
 "nbformat": 4,
 "nbformat_minor": 2
}
