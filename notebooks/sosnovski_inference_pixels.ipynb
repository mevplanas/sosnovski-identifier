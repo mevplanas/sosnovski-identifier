{
 "cells": [
  {
   "cell_type": "code",
   "execution_count": null,
   "metadata": {},
   "outputs": [],
   "source": [
    "# Importing deep learning \n",
    "from ultralytics import YOLO\n",
    "\n",
    "# Other functionlaities \n",
    "import os \n",
    "import pandas as pd \n",
    "import numpy as np \n",
    "import math \n",
    "\n",
    "# Computer vision libs\n",
    "import cv2 \n",
    "from PIL import Image\n",
    "from PIL.ExifTags import TAGS\n",
    "import exifread\n",
    "\n",
    "# Ploting \n",
    "import matplotlib.pyplot as plt\n",
    "import matplotlib.patches as patches"
   ]
  },
  {
   "cell_type": "code",
   "execution_count": null,
   "metadata": {},
   "outputs": [],
   "source": [
    "# Loading the trained model \n",
    "model = YOLO('../runs/segment/train15/weights/last.pt')"
   ]
  },
  {
   "cell_type": "code",
   "execution_count": null,
   "metadata": {},
   "outputs": [],
   "source": [
    "# Defining the path to the image \n",
    "path_to_img = 'input/test_image.JPG'\n",
    "base_name = os.path.basename(path_to_img)\n",
    "\n",
    "# Reading and ploting the image \n",
    "img = cv2.imread(path_to_img)\n",
    "img = cv2.cvtColor(img, cv2.COLOR_BGR2RGB)\n",
    "plt.imshow(img)"
   ]
  },
  {
   "cell_type": "markdown",
   "metadata": {},
   "source": [
    "## Predicting pixels \n",
    "\n",
    "Once the model is loaded, we can extract the segments using the model object we just loaded. "
   ]
  },
  {
   "cell_type": "code",
   "execution_count": null,
   "metadata": {},
   "outputs": [],
   "source": [
    "# Applying the model \n",
    "results = model(path_to_img)"
   ]
  },
  {
   "cell_type": "code",
   "execution_count": null,
   "metadata": {},
   "outputs": [],
   "source": [
    "# Extracting the image shape \n",
    "img_w, img_h = img.shape[1], img.shape[0]\n",
    "\n",
    "# Extracting the segments \n",
    "segments = results[0].masks.xyn\n",
    "print(f\"Number of segments: {len(segments)}\")"
   ]
  },
  {
   "cell_type": "markdown",
   "metadata": {},
   "source": [
    "The above `segments` object is a list containing each found patch of the sosnovski plant. The coordinates are normalized to the original image size. \n",
    "\n",
    "An example patch is shown below. \n",
    "\n",
    "```python\n",
    "[\n",
    "    array([[   0.009375,      0.2375],\n",
    "        [   0.009375,     0.26875],\n",
    "        [   0.023438,     0.26875],\n",
    "        [   0.023438,      0.2625],\n",
    "        [      0.025,     0.26042],\n",
    "        [      0.025,     0.25833],\n",
    "        [   0.026563,     0.25625],\n",
    "        [   0.032812,     0.25625],\n",
    "        [   0.032812,      0.2375]], dtype=float32)\n",
    "]\n",
    "```\n",
    "\n",
    "The first coordinate is the x-axis and the second coordinate is the y-axis. To plot on the image, we need to multiply the coordinates by the original image size. "
   ]
  },
  {
   "cell_type": "code",
   "execution_count": null,
   "metadata": {},
   "outputs": [],
   "source": [
    "# Converting to coordinates in pixels on the given image\n",
    "segments_pixels = []\n",
    "for segment in segments:\n",
    "    segment_pixels = [(x * img_w, y * img_h) for x, y in segment]\n",
    "    segments_pixels.append(segment_pixels)"
   ]
  },
  {
   "cell_type": "code",
   "execution_count": null,
   "metadata": {},
   "outputs": [],
   "source": [
    "fig, ax = plt.subplots(1)\n",
    "ax.imshow(img)\n",
    "\n",
    "# Create and add a Polygon patch for each segment with red fill and border\n",
    "for segment in segments_pixels:\n",
    "    # Setting facecolor to red fills the polygon, and alpha adds transparency\n",
    "    polygon = patches.Polygon(segment, closed=True, edgecolor='red', facecolor='red', linewidth=4, alpha=0.35)\n",
    "    ax.add_patch(polygon)\n",
    "\n",
    "plt.axis('off')\n",
    "plt.show()"
   ]
  },
  {
   "cell_type": "markdown",
   "metadata": {},
   "source": [
    "# Prediction to GPS conversion \n",
    "\n",
    "To get all the exif information, please visit: https://exif.tools/"
   ]
  },
  {
   "cell_type": "code",
   "execution_count": null,
   "metadata": {},
   "outputs": [],
   "source": [
    "# Extracting the function to extract the focal length\n",
    "def extract_focal_length(file_path):\n",
    "    # Open the image file for reading in binary mode\n",
    "    with open(file_path, 'rb') as f:\n",
    "        # Read the EXIF data\n",
    "        tags = exifread.process_file(f)\n",
    "\n",
    "        # Check if GPSInfo tag is present\n",
    "        if 'EXIF FocalLength' in tags:\n",
    "            # Extract latitude, longitude, and altitude\n",
    "            focal_length = tags['EXIF FocalLength'].values[0]\n",
    "\n",
    "            return float(focal_length)\n",
    "        else:\n",
    "            print(\"Focal length not found in the metadata.\")\n",
    "            return None"
   ]
  },
  {
   "cell_type": "code",
   "execution_count": null,
   "metadata": {},
   "outputs": [],
   "source": [
    "focal_length = extract_focal_length(path_to_img)\n",
    "#focal_length = 4.5\n",
    "print(f\"The focal length is: {focal_length}mm\")"
   ]
  },
  {
   "cell_type": "code",
   "execution_count": null,
   "metadata": {},
   "outputs": [],
   "source": [
    "def extract_gps_coordinates(file_path):\n",
    "    # Open the image file for reading in binary mode\n",
    "    with open(file_path, 'rb') as f:\n",
    "        # Read the EXIF data\n",
    "        tags = exifread.process_file(f)\n",
    "\n",
    "        # Check if GPSInfo tag is present\n",
    "        if 'GPS GPSLatitude' in tags and 'GPS GPSLongitude' in tags and 'GPS GPSAltitude' in tags:\n",
    "            # Extract latitude, longitude, and altitude\n",
    "            latitude = tags['GPS GPSLatitude'].values\n",
    "            longitude = tags['GPS GPSLongitude'].values\n",
    "            altitude = tags['GPS GPSAltitude'].values\n",
    "\n",
    "            # Convert coordinates to decimal format\n",
    "            latitude_decimal = latitude[0] + latitude[1] / 60 + latitude[2] / 3600\n",
    "            longitude_decimal = longitude[0] + longitude[1] / 60 + longitude[2] / 3600\n",
    "\n",
    "            # \n",
    "            return float(latitude_decimal), float(longitude_decimal), float(altitude[0])\n",
    "        else:\n",
    "            print(\"GPS information not found in the metadata.\")\n",
    "            return None, None, None "
   ]
  },
  {
   "cell_type": "code",
   "execution_count": null,
   "metadata": {},
   "outputs": [],
   "source": [
    "# Extracting the metadata\n",
    "latitude, longitude, altitude = extract_gps_coordinates(path_to_img)\n",
    "print(f\"The center coords are: {latitude}, {longitude}; Altitude {altitude}m\")"
   ]
  },
  {
   "cell_type": "code",
   "execution_count": null,
   "metadata": {},
   "outputs": [],
   "source": [
    "# Defining the camera properties (in mm)\n",
    "# For the DJI Mavic 2 please visti: https://leapingwing.co.uk/gsd-calculator/\n",
    "sensor_width = 6.4\n",
    "sensor_height = 4.8"
   ]
  },
  {
   "cell_type": "code",
   "execution_count": null,
   "metadata": {},
   "outputs": [],
   "source": [
    "# Hard saving other image related properties\n",
    "relative_altitude = 50.46\n",
    "gimbal_roll = 0\n",
    "gimbal_yaw = 49.2\n",
    "gimbal_pitch = -89.9"
   ]
  },
  {
   "cell_type": "code",
   "execution_count": null,
   "metadata": {},
   "outputs": [],
   "source": [
    "# Defining the function that calculates the diff in pixels to meters\n",
    "# GSD - Ground Sampling Distance\n",
    "def calculate_gsd(\n",
    "        height_from_ground, \n",
    "        image_width, \n",
    "        image_height, \n",
    "        sensor_width, \n",
    "        sensor_height, \n",
    "        focal_length\n",
    "        ):\n",
    "    \"\"\"\n",
    "    Function that calculates the GSD (Ground Sampling Distance) from pixels to meters\n",
    "\n",
    "    Args:\n",
    "        height_from_ground (float): Height from ground in meters\n",
    "        image_width (int): Image width in pixels\n",
    "        image_height (int): Image height in pixels\n",
    "        sensor_width (float): Sensor width in mm\n",
    "        sensor_height (float): Sensor height in mm\n",
    "        focal_length (float): Focal length in mm\n",
    "\n",
    "    Returns:\n",
    "        gsd_h (float): Horizontal GSD in meters\n",
    "        gsd_v (float): Vertical GSD in meters\n",
    "    \"\"\"\n",
    "    # Calculating the horizontal and vertical GSD\n",
    "    gsd_h = (height_from_ground * sensor_width) / (focal_length * image_width)\n",
    "    gsd_v = (height_from_ground * sensor_height) / (focal_length * image_height)\n",
    "    # Returning the average GSD\n",
    "    return gsd_h, gsd_v"
   ]
  },
  {
   "cell_type": "code",
   "execution_count": null,
   "metadata": {},
   "outputs": [],
   "source": [
    "# Calculating the diff in horizontal and vertical pixels to meters\n",
    "gsd_h, gsd_v = calculate_gsd(\n",
    "    relative_altitude,\n",
    "    img.shape[1],\n",
    "    img.shape[0],\n",
    "    sensor_width, \n",
    "    sensor_height, \n",
    "    focal_length\n",
    "    )\n",
    "\n",
    "print(f\"1 pixel in horizontal direction is {gsd_h} meters\")\n",
    "print(f\"1 pixel in vertical direction is {gsd_v} meters\")"
   ]
  },
  {
   "cell_type": "code",
   "execution_count": null,
   "metadata": {},
   "outputs": [],
   "source": [
    "def pixel_to_gps_with_gimbal(x, y, width, height, lat_center, lon_center, gsd_h, gsd_v, yaw, pitch, roll, altitude):\n",
    "    \"\"\"\n",
    "    Convert pixel coordinates to GPS coordinates considering gimbal orientation.\n",
    "    \n",
    "    Parameters:\n",
    "    x, y          : Pixel coordinates\n",
    "    width, height : Dimensions of the image\n",
    "    lat_center    : Latitude of the center point (degrees)\n",
    "    lon_center    : Longitude of the center point (degrees)\n",
    "    gsd_h, gsd_v  : Horizontal and vertical GSD (meters/pixel)\n",
    "    yaw, pitch, roll : Gimbal orientation (degrees)\n",
    "    altitude      : Camera altitude (meters)\n",
    "    \n",
    "    Returns:\n",
    "    (lat, lon) : GPS coordinates of the pixel\n",
    "    \"\"\"\n",
    "    # Convert gimbal angles to radians\n",
    "    yaw = math.radians(yaw)\n",
    "    pitch = math.radians(pitch)\n",
    "    roll = math.radians(roll)\n",
    "\n",
    "    # Rotation matrices\n",
    "    R_yaw = np.array([\n",
    "        [math.cos(yaw), -math.sin(yaw), 0],\n",
    "        [math.sin(yaw), math.cos(yaw), 0],\n",
    "        [0, 0, 1]\n",
    "    ])\n",
    "\n",
    "    R_pitch = np.array([\n",
    "        [math.cos(pitch), 0, math.sin(pitch)],\n",
    "        [0, 1, 0],\n",
    "        [-math.sin(pitch), 0, math.cos(pitch)]\n",
    "    ])\n",
    "\n",
    "    R_roll = np.array([\n",
    "        [1, 0, 0],\n",
    "        [0, math.cos(roll), -math.sin(roll)],\n",
    "        [0, math.sin(roll), math.cos(roll)]\n",
    "    ])\n",
    "\n",
    "    # Combined rotation matrix\n",
    "    R = R_yaw @ R_pitch @ R_roll\n",
    "\n",
    "    # Offset from center in pixels\n",
    "    dx = x - width / 2\n",
    "    dy = y - height / 2\n",
    "\n",
    "    # Real-world offsets in meters\n",
    "    delta_x_real = dx * gsd_h\n",
    "    delta_y_real = dy * gsd_v\n",
    "\n",
    "    # Camera to world transformation\n",
    "    ray_camera = np.array([delta_x_real, delta_y_real, altitude])\n",
    "    ray_world = R @ ray_camera\n",
    "\n",
    "    # Project onto ground plane (Z_w = 0)\n",
    "    scale = altitude / ray_world[2]\n",
    "    ground_offset = ray_world[:2] * scale\n",
    "\n",
    "    # Convert offsets to GPS\n",
    "    R_earth = 6371000  # Earth radius in meters\n",
    "    delta_lat = ground_offset[1] / R_earth * (180 / math.pi)\n",
    "    delta_lon = ground_offset[0] / (R_earth * math.cos(math.radians(lat_center))) * (180 / math.pi)\n",
    "\n",
    "    # GPS coordinates\n",
    "    lat = lat_center + delta_lat\n",
    "    lon = lon_center + delta_lon\n",
    "\n",
    "    return lat, lon"
   ]
  },
  {
   "cell_type": "code",
   "execution_count": null,
   "metadata": {},
   "outputs": [],
   "source": [
    "# Creating the gps coordinates\n",
    "polygon_points = results[0].masks[0].xy[0]\n",
    "gps_points = []\n",
    "for point in polygon_points:\n",
    "    gps_points.append(\n",
    "        pixel_to_gps_with_gimbal(\n",
    "            point[0], \n",
    "            point[1], \n",
    "            img.shape[1], \n",
    "            img.shape[0], \n",
    "            latitude, \n",
    "            longitude, \n",
    "            gsd_h, \n",
    "            gsd_v, \n",
    "            gimbal_yaw, \n",
    "            gimbal_pitch, \n",
    "            gimbal_roll, \n",
    "            relative_altitude\n",
    "            )\n",
    "    )\n",
    "    "
   ]
  },
  {
   "cell_type": "code",
   "execution_count": null,
   "metadata": {},
   "outputs": [],
   "source": [
    "# Creating a dataframe out of the gps points\n",
    "df = pd.DataFrame(gps_points, columns=[\"Latitude\", \"Longitude\"])\n",
    "\n",
    "# Saving to the inference directory \n",
    "df.to_csv(path_to_inference + \"/\" + base_name.split(\".\")[0] + \".csv\", index=False)"
   ]
  },
  {
   "cell_type": "code",
   "execution_count": null,
   "metadata": {},
   "outputs": [],
   "source": [
    "gps_points"
   ]
  },
  {
   "cell_type": "markdown",
   "metadata": {},
   "source": [
    "# Sosnovski path prediction "
   ]
  },
  {
   "cell_type": "code",
   "execution_count": null,
   "metadata": {},
   "outputs": [],
   "source": [
    "def shift_polygon(polygon, wind_direction, displacement):\n",
    "    \"\"\"\n",
    "    Shift a polygon based on wind direction and displacement.\n",
    "    \n",
    "    Parameters:\n",
    "    polygon         : List of tuples (lat, lon) representing the polygon vertices\n",
    "    wind_direction  : Wind direction in degrees (relative to true north)\n",
    "    displacement    : Displacement caused by wind (in meters)\n",
    "    \n",
    "    Returns:\n",
    "    shifted_polygon : List of tuples (lat, lon) representing the shifted polygon vertices\n",
    "    \"\"\"\n",
    "    R = 6371000  # Earth's radius in meters\n",
    "    \n",
    "    # Convert wind direction to radians\n",
    "    theta = math.radians(wind_direction)\n",
    "    \n",
    "    # Compute displacement in meters\n",
    "    delta_x = displacement * math.cos(theta)  # Eastward displacement\n",
    "    delta_y = displacement * math.sin(theta)  # Northward displacement\n",
    "    \n",
    "    shifted_polygon = []\n",
    "    \n",
    "    for lat, lon in polygon:\n",
    "        # Compute latitude offset\n",
    "        delta_lat = delta_y / R * (180 / math.pi)\n",
    "        \n",
    "        # Compute longitude offset (adjust for latitude)\n",
    "        delta_lon = delta_x / (R * math.cos(math.radians(lat))) * (180 / math.pi)\n",
    "        \n",
    "        # Compute new GPS coordinates\n",
    "        new_lat = lat + delta_lat\n",
    "        new_lon = lon + delta_lon\n",
    "        \n",
    "        shifted_polygon.append((new_lat, new_lon))\n",
    "    \n",
    "    return shifted_polygon"
   ]
  },
  {
   "cell_type": "code",
   "execution_count": null,
   "metadata": {},
   "outputs": [],
   "source": [
    "wind_direction = 90  # Wind blowing east\n",
    "displacement = 10  # Wind displacement in meters\n",
    "\n",
    "shifted_polygon = shift_polygon(gps_points, wind_direction, displacement)"
   ]
  },
  {
   "cell_type": "code",
   "execution_count": null,
   "metadata": {},
   "outputs": [],
   "source": [
    "# Saving into a dataframe\n",
    "df_shifted = pd.DataFrame(shifted_polygon, columns=[\"Latitude\", \"Longitude\"])\n",
    "df_shifted.to_csv(path_to_inference + \"/\" + base_name.split(\".\")[0] + \"_shifted.csv\", index=False)"
   ]
  },
  {
   "cell_type": "code",
   "execution_count": null,
   "metadata": {},
   "outputs": [],
   "source": []
  }
 ],
 "metadata": {
  "kernelspec": {
   "display_name": "venv",
   "language": "python",
   "name": "python3"
  },
  "language_info": {
   "codemirror_mode": {
    "name": "ipython",
    "version": 3
   },
   "file_extension": ".py",
   "mimetype": "text/x-python",
   "name": "python",
   "nbconvert_exporter": "python",
   "pygments_lexer": "ipython3",
   "version": "3.11.9"
  }
 },
 "nbformat": 4,
 "nbformat_minor": 2
}
